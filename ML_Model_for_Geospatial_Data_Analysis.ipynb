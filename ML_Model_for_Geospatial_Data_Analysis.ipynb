{
  "nbformat": 4,
  "nbformat_minor": 0,
  "metadata": {
    "colab": {
      "provenance": [],
      "authorship_tag": "ABX9TyMvd6FqhWVKh80ab7sDU10A",
      "include_colab_link": true
    },
    "kernelspec": {
      "name": "python3",
      "display_name": "Python 3"
    },
    "language_info": {
      "name": "python"
    }
  },
  "cells": [
    {
      "cell_type": "markdown",
      "metadata": {
        "id": "view-in-github",
        "colab_type": "text"
      },
      "source": [
        "<a href=\"https://colab.research.google.com/github/gwegayhu/dashboards-app/blob/master/ML_Model_for_Geospatial_Data_Analysis.ipynb\" target=\"_parent\"><img src=\"https://colab.research.google.com/assets/colab-badge.svg\" alt=\"Open In Colab\"/></a>"
      ]
    },
    {
      "cell_type": "code",
      "source": [
        "import pandas as pd\n",
        "from sklearn.model_selection import train_test_split\n",
        "from sklearn.preprocessing import StandardScaler, OneHotEncoder\n",
        "from sklearn.compose import ColumnTransformer\n",
        "from sklearn.pipeline import Pipeline\n",
        "from sklearn.ensemble import RandomForestRegressor\n",
        "from sklearn.metrics import mean_squared_error\n",
        "import joblib\n",
        "\n",
        "!pip install gdown\n",
        "import pandas as pd\n",
        "import gdown\n",
        "\n",
        "# Download the file from Google Drive\n",
        "file_id = '1NY8yDY4Zqvco83VO0_qAdUIgxHI8kQOm' # Extract the file ID from the URL\n",
        "file_path = 'downloaded_file.csv'  # Local file name to save the downloaded data\n",
        "gdown.download(id=file_id, output=file_path, quiet=False)\n",
        "\n",
        "# Step 1: Load the data\n",
        "# Load and preview the downloaded CSV file\n",
        "data = pd.read_csv(file_path)\n",
        "data.info(), data.head()\n",
        "\n",
        "# Step 2: ETL (Extract, Transform, Load)\n",
        "# Define features and target variable\n",
        "X = data.drop(columns=['Farm_ID', 'Yield(tons)'])\n",
        "y = data['Yield(tons)']\n",
        "\n",
        "# Identify categorical and numerical features\n",
        "categorical_features = ['Crop_Type', 'Irrigation_Type', 'Soil_Type', 'Season']\n",
        "numerical_features = ['Farm_Area(acres)', 'Fertilizer_Used(tons)', 'Pesticide_Used(kg)', 'Water_Usage(cubic meters)']\n",
        "\n",
        "# Step 3: Feature Engineering\n",
        "# Preprocessing for numerical and categorical features\n",
        "numerical_transformer = StandardScaler()\n",
        "categorical_transformer = OneHotEncoder(handle_unknown='ignore')\n",
        "\n",
        "preprocessor = ColumnTransformer(\n",
        "    transformers=[\n",
        "        ('num', numerical_transformer, numerical_features),\n",
        "        ('cat', categorical_transformer, categorical_features)\n",
        "    ]\n",
        ")\n",
        "\n",
        "# Step 4: Model Training Pipeline\n",
        "# Define the model\n",
        "model = RandomForestRegressor(random_state=42)\n",
        "\n",
        "# Create the pipeline\n",
        "pipeline = Pipeline([\n",
        "    ('preprocessor', preprocessor),\n",
        "    ('model', model)\n",
        "])\n",
        "\n",
        "# Step 5: Split the data\n",
        "X_train, X_test, y_train, y_test = train_test_split(X, y, test_size=0.2, random_state=42)\n",
        "\n",
        "# Step 6: Train the model\n",
        "pipeline.fit(X_train, y_train)\n",
        "\n",
        "# Step 7: Evaluate the model\n",
        "y_pred = pipeline.predict(X_test)\n",
        "mse = mean_squared_error(y_test, y_pred)\n",
        "print(f\"Mean Squared Error: {mse}\")\n",
        "\n",
        "# Step 8: Deploy the model\n",
        "# Save the trained pipeline\n",
        "# Changed the path to the current working directory.\n",
        "model_path = 'agriculture_yield_model.pkl'  # Changed to a local file path\n",
        "joblib.dump(pipeline, model_path)\n",
        "print(f\"Model saved to {model_path}\")"
      ],
      "metadata": {
        "colab": {
          "base_uri": "https://localhost:8080/"
        },
        "id": "eaQe1_JNkYM0",
        "outputId": "81b0f421-6319-46eb-fe37-2b9610b3f5df"
      },
      "execution_count": 7,
      "outputs": [
        {
          "output_type": "stream",
          "name": "stdout",
          "text": [
            "Requirement already satisfied: gdown in /usr/local/lib/python3.11/dist-packages (5.2.0)\n",
            "Requirement already satisfied: beautifulsoup4 in /usr/local/lib/python3.11/dist-packages (from gdown) (4.12.3)\n",
            "Requirement already satisfied: filelock in /usr/local/lib/python3.11/dist-packages (from gdown) (3.16.1)\n",
            "Requirement already satisfied: requests[socks] in /usr/local/lib/python3.11/dist-packages (from gdown) (2.32.3)\n",
            "Requirement already satisfied: tqdm in /usr/local/lib/python3.11/dist-packages (from gdown) (4.67.1)\n",
            "Requirement already satisfied: soupsieve>1.2 in /usr/local/lib/python3.11/dist-packages (from beautifulsoup4->gdown) (2.6)\n",
            "Requirement already satisfied: charset-normalizer<4,>=2 in /usr/local/lib/python3.11/dist-packages (from requests[socks]->gdown) (3.4.1)\n",
            "Requirement already satisfied: idna<4,>=2.5 in /usr/local/lib/python3.11/dist-packages (from requests[socks]->gdown) (3.10)\n",
            "Requirement already satisfied: urllib3<3,>=1.21.1 in /usr/local/lib/python3.11/dist-packages (from requests[socks]->gdown) (2.3.0)\n",
            "Requirement already satisfied: certifi>=2017.4.17 in /usr/local/lib/python3.11/dist-packages (from requests[socks]->gdown) (2024.12.14)\n",
            "Requirement already satisfied: PySocks!=1.5.7,>=1.5.6 in /usr/local/lib/python3.11/dist-packages (from requests[socks]->gdown) (1.7.1)\n"
          ]
        },
        {
          "output_type": "stream",
          "name": "stderr",
          "text": [
            "Downloading...\n",
            "From: https://drive.google.com/uc?id=1NY8yDY4Zqvco83VO0_qAdUIgxHI8kQOm\n",
            "To: /content/downloaded_file.csv\n",
            "100%|██████████| 3.23k/3.23k [00:00<00:00, 9.24MB/s]\n"
          ]
        },
        {
          "output_type": "stream",
          "name": "stdout",
          "text": [
            "<class 'pandas.core.frame.DataFrame'>\n",
            "RangeIndex: 50 entries, 0 to 49\n",
            "Data columns (total 10 columns):\n",
            " #   Column                     Non-Null Count  Dtype  \n",
            "---  ------                     --------------  -----  \n",
            " 0   Farm_ID                    50 non-null     object \n",
            " 1   Crop_Type                  50 non-null     object \n",
            " 2   Farm_Area(acres)           50 non-null     float64\n",
            " 3   Irrigation_Type            50 non-null     object \n",
            " 4   Fertilizer_Used(tons)      50 non-null     float64\n",
            " 5   Pesticide_Used(kg)         50 non-null     float64\n",
            " 6   Yield(tons)                50 non-null     float64\n",
            " 7   Soil_Type                  50 non-null     object \n",
            " 8   Season                     50 non-null     object \n",
            " 9   Water_Usage(cubic meters)  50 non-null     float64\n",
            "dtypes: float64(5), object(5)\n",
            "memory usage: 4.0+ KB\n",
            "Mean Squared Error: 153.8028708549999\n",
            "Model saved to agriculture_yield_model.pkl\n"
          ]
        }
      ]
    },
    {
      "cell_type": "code",
      "source": [],
      "metadata": {
        "id": "bp0C8W6jjWcH"
      },
      "execution_count": null,
      "outputs": []
    }
  ]
}