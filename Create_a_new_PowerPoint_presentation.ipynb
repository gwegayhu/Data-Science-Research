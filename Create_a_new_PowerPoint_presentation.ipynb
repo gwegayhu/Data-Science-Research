{
  "nbformat": 4,
  "nbformat_minor": 0,
  "metadata": {
    "colab": {
      "provenance": [],
      "authorship_tag": "ABX9TyOV0puUmueX3YBrwZZGt+fM",
      "include_colab_link": true
    },
    "kernelspec": {
      "name": "python3",
      "display_name": "Python 3"
    },
    "language_info": {
      "name": "python"
    }
  },
  "cells": [
    {
      "cell_type": "markdown",
      "metadata": {
        "id": "view-in-github",
        "colab_type": "text"
      },
      "source": [
        "<a href=\"https://colab.research.google.com/github/gwegayhu/Data-Science-Research/blob/master/Create_a_new_PowerPoint_presentation.ipynb\" target=\"_parent\"><img src=\"https://colab.research.google.com/assets/colab-badge.svg\" alt=\"Open In Colab\"/></a>"
      ]
    },
    {
      "cell_type": "code",
      "execution_count": 39,
      "metadata": {
        "id": "OlCWVkeUscVs"
      },
      "outputs": [],
      "source": [
        "from pptx import Presentation\n",
        "\n",
        "# Create a new PowerPoint presentation\n",
        "prs = Presentation()\n",
        "\n",
        "# Slide 1: Title Slide\n",
        "slide = prs.slides.add_slide(prs.slide_layouts[0])\n",
        "title = slide.shapes.title\n",
        "subtitle = slide.placeholders[1]\n",
        "title.text = \"AI-Driven Solutions for CRD Operations\"\n",
        "subtitle.text = \"Leveraging AI to Enhance Insights, Optimize Processes, and Drive Impact\"\n",
        "\n",
        "# Slide 2: Objectives\n",
        "slide = prs.slides.add_slide(prs.slide_layouts[1])\n",
        "title = slide.shapes.title\n",
        "content = slide.placeholders[1]\n",
        "title.text = \"Objectives of AI Integration\"\n",
        "content.text = (\n",
        "    \"- Develop and apply AI solutions to enhance operations\\n\"\n",
        "    \"- Utilize AI for data insights and process optimization\\n\"\n",
        "    \"- Streamline workflows through AI-driven automation\\n\"\n",
        "    \"- Provide technical support and training on AI tools\\n\"\n",
        "    \"- Ensure adherence to AI standards and best practices\"\n",
        ")\n",
        "\n",
        "# Slide 3: AI Solutions for Operations\n",
        "slide = prs.slides.add_slide(prs.slide_layouts[1])\n",
        "title = slide.shapes.title\n",
        "content = slide.placeholders[1]\n",
        "title.text = \"Develop and Apply AI Solutions\"\n",
        "content.text = (\n",
        "    \"- Predictive analytics for early detection of public health crises\\n\"\n",
        "    \"- Resource optimization during emergencies\\n\"\n",
        "    \"- Automate policy analysis using NLP\\n\"\n",
        "    \"AI Tools: Google Vertex AI, H2O.ai, OpenAI GPT-4\"\n",
        ")\n",
        "\n",
        "# Slide 4: AI for Data Insights\n",
        "slide = prs.slides.add_slide(prs.slide_layouts[1])\n",
        "title = slide.shapes.title\n",
        "content = slide.placeholders[1]\n",
        "title.text = \"Utilize AI for Data Insights\"\n",
        "content.text = (\n",
        "    \"- Analyze nutritional data for trends\\n\"\n",
        "    \"- Process behavioral science data for insights\\n\"\n",
        "    \"- Conduct geospatial analysis for health system gaps\\n\"\n",
        "    \"AI Tools: Tableau, Power BI, DataRobot, ArcGIS, Pandas\"\n",
        ")\n",
        "\n",
        "# Slide 5: Streamline Workflows\n",
        "slide = prs.slides.add_slide(prs.slide_layouts[1])\n",
        "title = slide.shapes.title\n",
        "content = slide.placeholders[1]\n",
        "title.text = \"Streamline Workflows with Automation\"\n",
        "content.text = (\n",
        "    \"- Automate data collection and cleansing\\n\"\n",
        "    \"- Real-time reporting dashboards\\n\"\n",
        "    \"- Chatbots for stakeholder support\\n\"\n",
        "    \"AI Tools: UiPath, Power Automate, Zapier, ChatGPT API\"\n",
        ")\n",
        "\n",
        "# Slide 6: Training and Capacity Building\n",
        "slide = prs.slides.add_slide(prs.slide_layouts[1])\n",
        "title = slide.shapes.title\n",
        "content = slide.placeholders[1]\n",
        "title.text = \"Provide Technical Support and Training\"\n",
        "content.text = (\n",
        "    \"- Conduct workshops on AI tools\\n\"\n",
        "    \"- Build self-service dashboards\\n\"\n",
        "    \"- Offer interactive tutorials for decision-making\\n\"\n",
        "    \"AI Tools: Coursera for Teams, Google Cloud AI Training, Domo\"\n",
        ")\n",
        "\n",
        "# Slide 7: Adherence to AI Standards\n",
        "slide = prs.slides.add_slide(prs.slide_layouts[1])\n",
        "title = slide.shapes.title\n",
        "content = slide.placeholders[1]\n",
        "title.text = \"Ensure Adherence to AI Standards\"\n",
        "content.text = (\n",
        "    \"- Establish AI governance frameworks\\n\"\n",
        "    \"- Implement bias detection algorithms\\n\"\n",
        "    \"- Audit AI systems for compliance\\n\"\n",
        "    \"AI Tools: IBM Watson OpenScale, Google What-If Tool, TFX\"\n",
        ")\n",
        "\n",
        "# Slide 8: Alignment with CRD Mission\n",
        "slide = prs.slides.add_slide(prs.slide_layouts[1])\n",
        "title = slide.shapes.title\n",
        "content = slide.placeholders[1]\n",
        "title.text = \"Alignment with CRD Mission\"\n",
        "content.text = (\n",
        "    \"- Real-time data collection in emergencies\\n\"\n",
        "    \"- Evidence-based policy development\\n\"\n",
        "    \"- Scaled training and capacity building\\n\"\n",
        "    \"Focus Areas: Public Health, Nutrition, Human Rights\"\n",
        ")\n",
        "\n"
      ]
    },
    {
      "source": [
        "!pip install --upgrade google-api-python-client google-auth-httplib2"
      ],
      "cell_type": "code",
      "metadata": {
        "colab": {
          "base_uri": "https://localhost:8080/"
        },
        "id": "PdOb2ZRgxVOm",
        "outputId": "d750b1e5-cb38-478f-a2df-3fb6566b0058"
      },
      "execution_count": 36,
      "outputs": [
        {
          "output_type": "stream",
          "name": "stdout",
          "text": [
            "Requirement already satisfied: google-api-python-client in /usr/local/lib/python3.11/dist-packages (2.155.0)\n",
            "Collecting google-api-python-client\n",
            "  Downloading google_api_python_client-2.159.0-py2.py3-none-any.whl.metadata (6.7 kB)\n",
            "Requirement already satisfied: google-auth-httplib2 in /usr/local/lib/python3.11/dist-packages (0.2.0)\n",
            "Requirement already satisfied: httplib2<1.dev0,>=0.19.0 in /usr/local/lib/python3.11/dist-packages (from google-api-python-client) (0.22.0)\n",
            "Requirement already satisfied: google-auth!=2.24.0,!=2.25.0,<3.0.0.dev0,>=1.32.0 in /usr/local/lib/python3.11/dist-packages (from google-api-python-client) (2.27.0)\n",
            "Requirement already satisfied: google-api-core!=2.0.*,!=2.1.*,!=2.2.*,!=2.3.0,<3.0.0.dev0,>=1.31.5 in /usr/local/lib/python3.11/dist-packages (from google-api-python-client) (2.19.2)\n",
            "Requirement already satisfied: uritemplate<5,>=3.0.1 in /usr/local/lib/python3.11/dist-packages (from google-api-python-client) (4.1.1)\n",
            "Requirement already satisfied: googleapis-common-protos<2.0.dev0,>=1.56.2 in /usr/local/lib/python3.11/dist-packages (from google-api-core!=2.0.*,!=2.1.*,!=2.2.*,!=2.3.0,<3.0.0.dev0,>=1.31.5->google-api-python-client) (1.66.0)\n",
            "Requirement already satisfied: protobuf!=3.20.0,!=3.20.1,!=4.21.0,!=4.21.1,!=4.21.2,!=4.21.3,!=4.21.4,!=4.21.5,<6.0.0.dev0,>=3.19.5 in /usr/local/lib/python3.11/dist-packages (from google-api-core!=2.0.*,!=2.1.*,!=2.2.*,!=2.3.0,<3.0.0.dev0,>=1.31.5->google-api-python-client) (4.25.5)\n",
            "Requirement already satisfied: proto-plus<2.0.0dev,>=1.22.3 in /usr/local/lib/python3.11/dist-packages (from google-api-core!=2.0.*,!=2.1.*,!=2.2.*,!=2.3.0,<3.0.0.dev0,>=1.31.5->google-api-python-client) (1.25.0)\n",
            "Requirement already satisfied: requests<3.0.0.dev0,>=2.18.0 in /usr/local/lib/python3.11/dist-packages (from google-api-core!=2.0.*,!=2.1.*,!=2.2.*,!=2.3.0,<3.0.0.dev0,>=1.31.5->google-api-python-client) (2.32.3)\n",
            "Requirement already satisfied: cachetools<6.0,>=2.0.0 in /usr/local/lib/python3.11/dist-packages (from google-auth!=2.24.0,!=2.25.0,<3.0.0.dev0,>=1.32.0->google-api-python-client) (5.5.1)\n",
            "Requirement already satisfied: pyasn1-modules>=0.2.1 in /usr/local/lib/python3.11/dist-packages (from google-auth!=2.24.0,!=2.25.0,<3.0.0.dev0,>=1.32.0->google-api-python-client) (0.4.1)\n",
            "Requirement already satisfied: rsa<5,>=3.1.4 in /usr/local/lib/python3.11/dist-packages (from google-auth!=2.24.0,!=2.25.0,<3.0.0.dev0,>=1.32.0->google-api-python-client) (4.9)\n",
            "Requirement already satisfied: pyparsing!=3.0.0,!=3.0.1,!=3.0.2,!=3.0.3,<4,>=2.4.2 in /usr/local/lib/python3.11/dist-packages (from httplib2<1.dev0,>=0.19.0->google-api-python-client) (3.2.1)\n",
            "Requirement already satisfied: pyasn1<0.7.0,>=0.4.6 in /usr/local/lib/python3.11/dist-packages (from pyasn1-modules>=0.2.1->google-auth!=2.24.0,!=2.25.0,<3.0.0.dev0,>=1.32.0->google-api-python-client) (0.6.1)\n",
            "Requirement already satisfied: charset-normalizer<4,>=2 in /usr/local/lib/python3.11/dist-packages (from requests<3.0.0.dev0,>=2.18.0->google-api-core!=2.0.*,!=2.1.*,!=2.2.*,!=2.3.0,<3.0.0.dev0,>=1.31.5->google-api-python-client) (3.4.1)\n",
            "Requirement already satisfied: idna<4,>=2.5 in /usr/local/lib/python3.11/dist-packages (from requests<3.0.0.dev0,>=2.18.0->google-api-core!=2.0.*,!=2.1.*,!=2.2.*,!=2.3.0,<3.0.0.dev0,>=1.31.5->google-api-python-client) (3.10)\n",
            "Requirement already satisfied: urllib3<3,>=1.21.1 in /usr/local/lib/python3.11/dist-packages (from requests<3.0.0.dev0,>=2.18.0->google-api-core!=2.0.*,!=2.1.*,!=2.2.*,!=2.3.0,<3.0.0.dev0,>=1.31.5->google-api-python-client) (2.3.0)\n",
            "Requirement already satisfied: certifi>=2017.4.17 in /usr/local/lib/python3.11/dist-packages (from requests<3.0.0.dev0,>=2.18.0->google-api-core!=2.0.*,!=2.1.*,!=2.2.*,!=2.3.0,<3.0.0.dev0,>=1.31.5->google-api-python-client) (2024.12.14)\n",
            "Downloading google_api_python_client-2.159.0-py2.py3-none-any.whl (12.8 MB)\n",
            "\u001b[2K   \u001b[90m━━━━━━━━━━━━━━━━━━━━━━━━━━━━━━━━━━━━━━━━\u001b[0m \u001b[32m12.8/12.8 MB\u001b[0m \u001b[31m58.4 MB/s\u001b[0m eta \u001b[36m0:00:00\u001b[0m\n",
            "\u001b[?25hInstalling collected packages: google-api-python-client\n",
            "  Attempting uninstall: google-api-python-client\n",
            "    Found existing installation: google-api-python-client 2.155.0\n",
            "    Uninstalling google-api-python-client-2.155.0:\n",
            "      Successfully uninstalled google-api-python-client-2.155.0\n",
            "Successfully installed google-api-python-client-2.159.0\n"
          ]
        }
      ]
    },
    {
      "source": [
        "!pip install --upgrade google-api-python-client google-auth-httplib2 google-auth-oauthlib\n",
        "\n",
        "from pptx import Presentation\n",
        "from google.colab import auth\n",
        "from googleapiclient.discovery import build\n",
        "from googleapiclient.http import MediaFileUpload\n",
        "\n",
        "# ... (Your existing code to create the presentation) ...\n",
        "\n",
        "# 1. Save the presentation locally\n",
        "local_path = \"AI_Solutions_for_CRD.pptx\"\n",
        "prs.save(local_path)\n",
        "\n",
        "# 2. Authenticate and authorize access to Google Drive\n",
        "auth.authenticate_user()\n",
        "drive_service = build('drive', 'v3')\n",
        "\n",
        "# 3. Upload the file to Google Drive\n",
        "file_metadata = {'name': 'AI_Solutions_for_CRD.pptx',\n",
        "                 'parents': ['1vylL7wT-q0qdQae2XBKzMHcVksis-S94']}  # Replace with your folder ID\n",
        "media = MediaFileUpload(local_path, mimetype='application/vnd.openxmlformats-officedocument.presentationml.presentation')\n",
        "file = drive_service.files().create(body=file_metadata,\n",
        "                                    media_body=media,\n",
        "                                    fields='id').execute()\n",
        "print(f'File ID: {file.get(\"id\")}')"
      ],
      "cell_type": "code",
      "metadata": {
        "colab": {
          "base_uri": "https://localhost:8080/"
        },
        "id": "gIa-GhmTxZH5",
        "outputId": "53c0392e-3f61-4a71-9bd5-5322f12570a2"
      },
      "execution_count": 38,
      "outputs": [
        {
          "output_type": "stream",
          "name": "stdout",
          "text": [
            "Requirement already satisfied: google-api-python-client in /usr/local/lib/python3.11/dist-packages (2.159.0)\n",
            "Requirement already satisfied: google-auth-httplib2 in /usr/local/lib/python3.11/dist-packages (0.2.0)\n",
            "Requirement already satisfied: google-auth-oauthlib in /usr/local/lib/python3.11/dist-packages (1.2.1)\n",
            "Requirement already satisfied: httplib2<1.dev0,>=0.19.0 in /usr/local/lib/python3.11/dist-packages (from google-api-python-client) (0.22.0)\n",
            "Requirement already satisfied: google-auth!=2.24.0,!=2.25.0,<3.0.0.dev0,>=1.32.0 in /usr/local/lib/python3.11/dist-packages (from google-api-python-client) (2.27.0)\n",
            "Requirement already satisfied: google-api-core!=2.0.*,!=2.1.*,!=2.2.*,!=2.3.0,<3.0.0.dev0,>=1.31.5 in /usr/local/lib/python3.11/dist-packages (from google-api-python-client) (2.19.2)\n",
            "Requirement already satisfied: uritemplate<5,>=3.0.1 in /usr/local/lib/python3.11/dist-packages (from google-api-python-client) (4.1.1)\n",
            "Requirement already satisfied: requests-oauthlib>=0.7.0 in /usr/local/lib/python3.11/dist-packages (from google-auth-oauthlib) (1.3.1)\n",
            "Requirement already satisfied: googleapis-common-protos<2.0.dev0,>=1.56.2 in /usr/local/lib/python3.11/dist-packages (from google-api-core!=2.0.*,!=2.1.*,!=2.2.*,!=2.3.0,<3.0.0.dev0,>=1.31.5->google-api-python-client) (1.66.0)\n",
            "Requirement already satisfied: protobuf!=3.20.0,!=3.20.1,!=4.21.0,!=4.21.1,!=4.21.2,!=4.21.3,!=4.21.4,!=4.21.5,<6.0.0.dev0,>=3.19.5 in /usr/local/lib/python3.11/dist-packages (from google-api-core!=2.0.*,!=2.1.*,!=2.2.*,!=2.3.0,<3.0.0.dev0,>=1.31.5->google-api-python-client) (4.25.5)\n",
            "Requirement already satisfied: proto-plus<2.0.0dev,>=1.22.3 in /usr/local/lib/python3.11/dist-packages (from google-api-core!=2.0.*,!=2.1.*,!=2.2.*,!=2.3.0,<3.0.0.dev0,>=1.31.5->google-api-python-client) (1.25.0)\n",
            "Requirement already satisfied: requests<3.0.0.dev0,>=2.18.0 in /usr/local/lib/python3.11/dist-packages (from google-api-core!=2.0.*,!=2.1.*,!=2.2.*,!=2.3.0,<3.0.0.dev0,>=1.31.5->google-api-python-client) (2.32.3)\n",
            "Requirement already satisfied: cachetools<6.0,>=2.0.0 in /usr/local/lib/python3.11/dist-packages (from google-auth!=2.24.0,!=2.25.0,<3.0.0.dev0,>=1.32.0->google-api-python-client) (5.5.1)\n",
            "Requirement already satisfied: pyasn1-modules>=0.2.1 in /usr/local/lib/python3.11/dist-packages (from google-auth!=2.24.0,!=2.25.0,<3.0.0.dev0,>=1.32.0->google-api-python-client) (0.4.1)\n",
            "Requirement already satisfied: rsa<5,>=3.1.4 in /usr/local/lib/python3.11/dist-packages (from google-auth!=2.24.0,!=2.25.0,<3.0.0.dev0,>=1.32.0->google-api-python-client) (4.9)\n",
            "Requirement already satisfied: pyparsing!=3.0.0,!=3.0.1,!=3.0.2,!=3.0.3,<4,>=2.4.2 in /usr/local/lib/python3.11/dist-packages (from httplib2<1.dev0,>=0.19.0->google-api-python-client) (3.2.1)\n",
            "Requirement already satisfied: oauthlib>=3.0.0 in /usr/local/lib/python3.11/dist-packages (from requests-oauthlib>=0.7.0->google-auth-oauthlib) (3.2.2)\n",
            "Requirement already satisfied: pyasn1<0.7.0,>=0.4.6 in /usr/local/lib/python3.11/dist-packages (from pyasn1-modules>=0.2.1->google-auth!=2.24.0,!=2.25.0,<3.0.0.dev0,>=1.32.0->google-api-python-client) (0.6.1)\n",
            "Requirement already satisfied: charset-normalizer<4,>=2 in /usr/local/lib/python3.11/dist-packages (from requests<3.0.0.dev0,>=2.18.0->google-api-core!=2.0.*,!=2.1.*,!=2.2.*,!=2.3.0,<3.0.0.dev0,>=1.31.5->google-api-python-client) (3.4.1)\n",
            "Requirement already satisfied: idna<4,>=2.5 in /usr/local/lib/python3.11/dist-packages (from requests<3.0.0.dev0,>=2.18.0->google-api-core!=2.0.*,!=2.1.*,!=2.2.*,!=2.3.0,<3.0.0.dev0,>=1.31.5->google-api-python-client) (3.10)\n",
            "Requirement already satisfied: urllib3<3,>=1.21.1 in /usr/local/lib/python3.11/dist-packages (from requests<3.0.0.dev0,>=2.18.0->google-api-core!=2.0.*,!=2.1.*,!=2.2.*,!=2.3.0,<3.0.0.dev0,>=1.31.5->google-api-python-client) (2.3.0)\n",
            "Requirement already satisfied: certifi>=2017.4.17 in /usr/local/lib/python3.11/dist-packages (from requests<3.0.0.dev0,>=2.18.0->google-api-core!=2.0.*,!=2.1.*,!=2.2.*,!=2.3.0,<3.0.0.dev0,>=1.31.5->google-api-python-client) (2024.12.14)\n",
            "File ID: 1OCEnmb2LPJFG4qoYF55B-uGOfcDxTBUS\n"
          ]
        }
      ]
    }
  ]
}